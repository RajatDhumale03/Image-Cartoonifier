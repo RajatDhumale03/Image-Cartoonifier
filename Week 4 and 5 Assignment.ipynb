{
  "nbformat": 4,
  "nbformat_minor": 0,
  "metadata": {
    "colab": {
      "provenance": []
    },
    "kernelspec": {
      "name": "python3",
      "display_name": "Python 3"
    },
    "language_info": {
      "name": "python"
    }
  },
  "cells": [
    {
      "cell_type": "markdown",
      "source": [
        "## Digit Recognise Dataset"
      ],
      "metadata": {
        "id": "iiBoI62AlLvh"
      }
    },
    {
      "cell_type": "code",
      "source": [
        "from google.colab import drive\n",
        "drive.mount('/content/drive')"
      ],
      "metadata": {
        "colab": {
          "base_uri": "https://localhost:8080/"
        },
        "id": "hfHsOgKKmrrZ",
        "outputId": "9a297552-926c-4abd-c7b7-5c660c185bcf"
      },
      "execution_count": null,
      "outputs": [
        {
          "output_type": "stream",
          "name": "stdout",
          "text": [
            "Mounted at /content/drive\n"
          ]
        }
      ]
    },
    {
      "cell_type": "code",
      "execution_count": null,
      "metadata": {
        "id": "Pcl_naTYTkiR"
      },
      "outputs": [],
      "source": [
        "import pandas as pd\n",
        "from sklearn.model_selection import train_test_split\n",
        "import numpy as np"
      ]
    },
    {
      "cell_type": "code",
      "source": [
        "dm = pd.read_csv('/content/drive/MyDrive/train.csv')\n",
        "dm.head()"
      ],
      "metadata": {
        "colab": {
          "base_uri": "https://localhost:8080/",
          "height": 299
        },
        "id": "jY_t5nxGnHN9",
        "outputId": "fc9a52d0-63b4-4cb5-936d-6dd4fefd06fe"
      },
      "execution_count": null,
      "outputs": [
        {
          "output_type": "execute_result",
          "data": {
            "text/plain": [
              "   label  pixel0  pixel1  pixel2  pixel3  pixel4  pixel5  pixel6  pixel7  \\\n",
              "0      1       0       0       0       0       0       0       0       0   \n",
              "1      0       0       0       0       0       0       0       0       0   \n",
              "2      1       0       0       0       0       0       0       0       0   \n",
              "3      4       0       0       0       0       0       0       0       0   \n",
              "4      0       0       0       0       0       0       0       0       0   \n",
              "\n",
              "   pixel8  ...  pixel774  pixel775  pixel776  pixel777  pixel778  pixel779  \\\n",
              "0       0  ...         0         0         0         0         0         0   \n",
              "1       0  ...         0         0         0         0         0         0   \n",
              "2       0  ...         0         0         0         0         0         0   \n",
              "3       0  ...         0         0         0         0         0         0   \n",
              "4       0  ...         0         0         0         0         0         0   \n",
              "\n",
              "   pixel780  pixel781  pixel782  pixel783  \n",
              "0         0         0         0         0  \n",
              "1         0         0         0         0  \n",
              "2         0         0         0         0  \n",
              "3         0         0         0         0  \n",
              "4         0         0         0         0  \n",
              "\n",
              "[5 rows x 785 columns]"
            ],
            "text/html": [
              "\n",
              "  <div id=\"df-89691f04-c7dd-4944-974e-2b59ca0c823a\">\n",
              "    <div class=\"colab-df-container\">\n",
              "      <div>\n",
              "<style scoped>\n",
              "    .dataframe tbody tr th:only-of-type {\n",
              "        vertical-align: middle;\n",
              "    }\n",
              "\n",
              "    .dataframe tbody tr th {\n",
              "        vertical-align: top;\n",
              "    }\n",
              "\n",
              "    .dataframe thead th {\n",
              "        text-align: right;\n",
              "    }\n",
              "</style>\n",
              "<table border=\"1\" class=\"dataframe\">\n",
              "  <thead>\n",
              "    <tr style=\"text-align: right;\">\n",
              "      <th></th>\n",
              "      <th>label</th>\n",
              "      <th>pixel0</th>\n",
              "      <th>pixel1</th>\n",
              "      <th>pixel2</th>\n",
              "      <th>pixel3</th>\n",
              "      <th>pixel4</th>\n",
              "      <th>pixel5</th>\n",
              "      <th>pixel6</th>\n",
              "      <th>pixel7</th>\n",
              "      <th>pixel8</th>\n",
              "      <th>...</th>\n",
              "      <th>pixel774</th>\n",
              "      <th>pixel775</th>\n",
              "      <th>pixel776</th>\n",
              "      <th>pixel777</th>\n",
              "      <th>pixel778</th>\n",
              "      <th>pixel779</th>\n",
              "      <th>pixel780</th>\n",
              "      <th>pixel781</th>\n",
              "      <th>pixel782</th>\n",
              "      <th>pixel783</th>\n",
              "    </tr>\n",
              "  </thead>\n",
              "  <tbody>\n",
              "    <tr>\n",
              "      <th>0</th>\n",
              "      <td>1</td>\n",
              "      <td>0</td>\n",
              "      <td>0</td>\n",
              "      <td>0</td>\n",
              "      <td>0</td>\n",
              "      <td>0</td>\n",
              "      <td>0</td>\n",
              "      <td>0</td>\n",
              "      <td>0</td>\n",
              "      <td>0</td>\n",
              "      <td>...</td>\n",
              "      <td>0</td>\n",
              "      <td>0</td>\n",
              "      <td>0</td>\n",
              "      <td>0</td>\n",
              "      <td>0</td>\n",
              "      <td>0</td>\n",
              "      <td>0</td>\n",
              "      <td>0</td>\n",
              "      <td>0</td>\n",
              "      <td>0</td>\n",
              "    </tr>\n",
              "    <tr>\n",
              "      <th>1</th>\n",
              "      <td>0</td>\n",
              "      <td>0</td>\n",
              "      <td>0</td>\n",
              "      <td>0</td>\n",
              "      <td>0</td>\n",
              "      <td>0</td>\n",
              "      <td>0</td>\n",
              "      <td>0</td>\n",
              "      <td>0</td>\n",
              "      <td>0</td>\n",
              "      <td>...</td>\n",
              "      <td>0</td>\n",
              "      <td>0</td>\n",
              "      <td>0</td>\n",
              "      <td>0</td>\n",
              "      <td>0</td>\n",
              "      <td>0</td>\n",
              "      <td>0</td>\n",
              "      <td>0</td>\n",
              "      <td>0</td>\n",
              "      <td>0</td>\n",
              "    </tr>\n",
              "    <tr>\n",
              "      <th>2</th>\n",
              "      <td>1</td>\n",
              "      <td>0</td>\n",
              "      <td>0</td>\n",
              "      <td>0</td>\n",
              "      <td>0</td>\n",
              "      <td>0</td>\n",
              "      <td>0</td>\n",
              "      <td>0</td>\n",
              "      <td>0</td>\n",
              "      <td>0</td>\n",
              "      <td>...</td>\n",
              "      <td>0</td>\n",
              "      <td>0</td>\n",
              "      <td>0</td>\n",
              "      <td>0</td>\n",
              "      <td>0</td>\n",
              "      <td>0</td>\n",
              "      <td>0</td>\n",
              "      <td>0</td>\n",
              "      <td>0</td>\n",
              "      <td>0</td>\n",
              "    </tr>\n",
              "    <tr>\n",
              "      <th>3</th>\n",
              "      <td>4</td>\n",
              "      <td>0</td>\n",
              "      <td>0</td>\n",
              "      <td>0</td>\n",
              "      <td>0</td>\n",
              "      <td>0</td>\n",
              "      <td>0</td>\n",
              "      <td>0</td>\n",
              "      <td>0</td>\n",
              "      <td>0</td>\n",
              "      <td>...</td>\n",
              "      <td>0</td>\n",
              "      <td>0</td>\n",
              "      <td>0</td>\n",
              "      <td>0</td>\n",
              "      <td>0</td>\n",
              "      <td>0</td>\n",
              "      <td>0</td>\n",
              "      <td>0</td>\n",
              "      <td>0</td>\n",
              "      <td>0</td>\n",
              "    </tr>\n",
              "    <tr>\n",
              "      <th>4</th>\n",
              "      <td>0</td>\n",
              "      <td>0</td>\n",
              "      <td>0</td>\n",
              "      <td>0</td>\n",
              "      <td>0</td>\n",
              "      <td>0</td>\n",
              "      <td>0</td>\n",
              "      <td>0</td>\n",
              "      <td>0</td>\n",
              "      <td>0</td>\n",
              "      <td>...</td>\n",
              "      <td>0</td>\n",
              "      <td>0</td>\n",
              "      <td>0</td>\n",
              "      <td>0</td>\n",
              "      <td>0</td>\n",
              "      <td>0</td>\n",
              "      <td>0</td>\n",
              "      <td>0</td>\n",
              "      <td>0</td>\n",
              "      <td>0</td>\n",
              "    </tr>\n",
              "  </tbody>\n",
              "</table>\n",
              "<p>5 rows × 785 columns</p>\n",
              "</div>\n",
              "      <button class=\"colab-df-convert\" onclick=\"convertToInteractive('df-89691f04-c7dd-4944-974e-2b59ca0c823a')\"\n",
              "              title=\"Convert this dataframe to an interactive table.\"\n",
              "              style=\"display:none;\">\n",
              "        \n",
              "  <svg xmlns=\"http://www.w3.org/2000/svg\" height=\"24px\"viewBox=\"0 0 24 24\"\n",
              "       width=\"24px\">\n",
              "    <path d=\"M0 0h24v24H0V0z\" fill=\"none\"/>\n",
              "    <path d=\"M18.56 5.44l.94 2.06.94-2.06 2.06-.94-2.06-.94-.94-2.06-.94 2.06-2.06.94zm-11 1L8.5 8.5l.94-2.06 2.06-.94-2.06-.94L8.5 2.5l-.94 2.06-2.06.94zm10 10l.94 2.06.94-2.06 2.06-.94-2.06-.94-.94-2.06-.94 2.06-2.06.94z\"/><path d=\"M17.41 7.96l-1.37-1.37c-.4-.4-.92-.59-1.43-.59-.52 0-1.04.2-1.43.59L10.3 9.45l-7.72 7.72c-.78.78-.78 2.05 0 2.83L4 21.41c.39.39.9.59 1.41.59.51 0 1.02-.2 1.41-.59l7.78-7.78 2.81-2.81c.8-.78.8-2.07 0-2.86zM5.41 20L4 18.59l7.72-7.72 1.47 1.35L5.41 20z\"/>\n",
              "  </svg>\n",
              "      </button>\n",
              "      \n",
              "  <style>\n",
              "    .colab-df-container {\n",
              "      display:flex;\n",
              "      flex-wrap:wrap;\n",
              "      gap: 12px;\n",
              "    }\n",
              "\n",
              "    .colab-df-convert {\n",
              "      background-color: #E8F0FE;\n",
              "      border: none;\n",
              "      border-radius: 50%;\n",
              "      cursor: pointer;\n",
              "      display: none;\n",
              "      fill: #1967D2;\n",
              "      height: 32px;\n",
              "      padding: 0 0 0 0;\n",
              "      width: 32px;\n",
              "    }\n",
              "\n",
              "    .colab-df-convert:hover {\n",
              "      background-color: #E2EBFA;\n",
              "      box-shadow: 0px 1px 2px rgba(60, 64, 67, 0.3), 0px 1px 3px 1px rgba(60, 64, 67, 0.15);\n",
              "      fill: #174EA6;\n",
              "    }\n",
              "\n",
              "    [theme=dark] .colab-df-convert {\n",
              "      background-color: #3B4455;\n",
              "      fill: #D2E3FC;\n",
              "    }\n",
              "\n",
              "    [theme=dark] .colab-df-convert:hover {\n",
              "      background-color: #434B5C;\n",
              "      box-shadow: 0px 1px 3px 1px rgba(0, 0, 0, 0.15);\n",
              "      filter: drop-shadow(0px 1px 2px rgba(0, 0, 0, 0.3));\n",
              "      fill: #FFFFFF;\n",
              "    }\n",
              "  </style>\n",
              "\n",
              "      <script>\n",
              "        const buttonEl =\n",
              "          document.querySelector('#df-89691f04-c7dd-4944-974e-2b59ca0c823a button.colab-df-convert');\n",
              "        buttonEl.style.display =\n",
              "          google.colab.kernel.accessAllowed ? 'block' : 'none';\n",
              "\n",
              "        async function convertToInteractive(key) {\n",
              "          const element = document.querySelector('#df-89691f04-c7dd-4944-974e-2b59ca0c823a');\n",
              "          const dataTable =\n",
              "            await google.colab.kernel.invokeFunction('convertToInteractive',\n",
              "                                                     [key], {});\n",
              "          if (!dataTable) return;\n",
              "\n",
              "          const docLinkHtml = 'Like what you see? Visit the ' +\n",
              "            '<a target=\"_blank\" href=https://colab.research.google.com/notebooks/data_table.ipynb>data table notebook</a>'\n",
              "            + ' to learn more about interactive tables.';\n",
              "          element.innerHTML = '';\n",
              "          dataTable['output_type'] = 'display_data';\n",
              "          await google.colab.output.renderOutput(dataTable, element);\n",
              "          const docLink = document.createElement('div');\n",
              "          docLink.innerHTML = docLinkHtml;\n",
              "          element.appendChild(docLink);\n",
              "        }\n",
              "      </script>\n",
              "    </div>\n",
              "  </div>\n",
              "  "
            ]
          },
          "metadata": {},
          "execution_count": 3
        }
      ]
    },
    {
      "cell_type": "code",
      "source": [
        "X = dm.iloc[:, 1:]\n",
        "Y = dm.iloc[:, 0]\n",
        "\n",
        "X_dev = X[:1000]\n",
        "Y_dev = Y[:1000]\n",
        "X_train = X[1000:]\n",
        "Y_train = Y[1000:]\n",
        "\n",
        "X_dev = np.array(X_dev)\n",
        "Y_dev = np.array(Y_dev)\n",
        "X_train = np.array(X_train)\n",
        "Y_train = np.array(Y_train)"
      ],
      "metadata": {
        "id": "FRyXv7CKnW_V"
      },
      "execution_count": null,
      "outputs": []
    },
    {
      "cell_type": "code",
      "source": [
        "X_dev = X_dev / 255\n",
        "X_train = X_train / 255\n",
        "\n",
        "X_dev = np.array(X_dev)\n",
        "X_train = np.array(X_train)"
      ],
      "metadata": {
        "id": "1VIBm_nrnqKR"
      },
      "execution_count": null,
      "outputs": []
    },
    {
      "cell_type": "markdown",
      "source": [
        "## Part 1: Neural Network Implementation:"
      ],
      "metadata": {
        "id": "LaUoCfuFn2Tm"
      }
    },
    {
      "cell_type": "code",
      "source": [
        "def init_params():\n",
        "    units = [784, 120, 45, 10]\n",
        "    params = {}\n",
        "    for i in range(1, len(units)):\n",
        "        current_units = units[i]\n",
        "        prev_units = units[i-1]\n",
        "        params['W' + str(i)] = np.random.rand(current_units, prev_units)\n",
        "        params['b' + str(i)] = np.random.rand(current_units, 1)\n",
        "\n",
        "    return params"
      ],
      "metadata": {
        "id": "GZ9O2LS5n7nh"
      },
      "execution_count": null,
      "outputs": []
    },
    {
      "cell_type": "code",
      "source": [
        "def ReLU(Z):\n",
        "    A = np.maximum(0, Z)\n",
        "    return A"
      ],
      "metadata": {
        "id": "mkPrv0HWo0_X"
      },
      "execution_count": null,
      "outputs": []
    },
    {
      "cell_type": "code",
      "source": [
        "def Softmax(Z):\n",
        "    Z_shifted = Z - np.max(Z, axis=0)\n",
        "    exp_values = np.exp(Z_shifted)\n",
        "    exp_sum = np.sum(exp_values, axis=0)\n",
        "    A = exp_values / exp_sum\n",
        "    return A"
      ],
      "metadata": {
        "id": "Ayrq85hOpHRD"
      },
      "execution_count": null,
      "outputs": []
    },
    {
      "cell_type": "code",
      "source": [
        "def forward_propagation(X, params):\n",
        "    caches = {}\n",
        "    A = X\n",
        "    num_layers = len(params) // 2\n",
        "    for layer in range(1, num_layers):\n",
        "        W = params['W' + str(layer)]\n",
        "        b = params['b' + str(layer)]\n",
        "        Z = np.dot(W, A) + b\n",
        "        A = ReLU(Z)\n",
        "        caches['Z' + str(layer)] = Z\n",
        "        caches['A' + str(layer)] = A\n",
        "    W = params['W' + str(num_layers)]\n",
        "    b = params['b' + str(num_layers)]\n",
        "    Z = np.dot(W, A) + b\n",
        "    A = Softmax(Z)\n",
        "    caches['Z' + str(num_layers)] = Z\n",
        "    caches['A' + str(num_layers)] = A\n",
        "    return A, caches"
      ],
      "metadata": {
        "id": "ABvd0plzpu39"
      },
      "execution_count": null,
      "outputs": []
    },
    {
      "cell_type": "code",
      "source": [
        "def forward_propagation(X, params):\n",
        "    caches = {}\n",
        "    A = X\n",
        "    num_layers = len(params) // 2\n",
        "    for layer in range(1, num_layers):\n",
        "        W = params['W' + str(layer)]\n",
        "        b = params['b' + str(layer)]\n",
        "        Z = np.dot(W, A) + b\n",
        "        caches['Z' + str(layer)] = Z\n",
        "        if layer == num_layers - 1:\n",
        "            A = Softmax(Z)\n",
        "        else:\n",
        "            A = ReLU(Z)\n",
        "\n",
        "        caches['A' + str(layer)] = A\n",
        "    W = params['W' + str(num_layers)]\n",
        "    b = params['b' + str(num_layers)]\n",
        "    Z = np.dot(W, A) + b\n",
        "    A = Softmax(Z)\n",
        "    caches['Z' + str(num_layers)] = Z\n",
        "    caches['A' + str(num_layers)] = A\n",
        "\n",
        "    return A, caches"
      ],
      "metadata": {
        "id": "YbWxKCeUqGF5"
      },
      "execution_count": null,
      "outputs": []
    },
    {
      "cell_type": "code",
      "source": [
        "\n",
        "def forward_propagation(X, params):\n",
        "    caches = {}\n",
        "    A = X\n",
        "    num_layers = len(params) // 2\n",
        "    for layer in range(1, num_layers):\n",
        "        W = params['W' + str(layer)]\n",
        "        b = params['b' + str(layer)]\n",
        "        Z = np.dot(W, A) + b\n",
        "        caches['Z' + str(layer)] = Z\n",
        "        A = ReLU(Z)\n",
        "        caches['A' + str(layer)] = A\n",
        "    W = params['W' + str(num_layers)]\n",
        "    b = params['b' + str(num_layers)]\n",
        "    Z = np.dot(W, A) + b\n",
        "    A = Softmax(Z)\n",
        "    caches['Z' + str(num_layers)] = Z\n",
        "    caches['A' + str(num_layers)] = A\n",
        "    return A, caches"
      ],
      "metadata": {
        "id": "xzxxbCMoqa7M"
      },
      "execution_count": null,
      "outputs": []
    },
    {
      "cell_type": "code",
      "source": [
        "def forward_propagation(X, params):\n",
        "    caches = {}\n",
        "    A = X\n",
        "    num_layers = len(params) // 2\n",
        "    for layer in range(1, num_layers):\n",
        "        W = params['W' + str(layer)]\n",
        "        b = params['b' + str(layer)]\n",
        "        Z = np.dot(W, A) + b\n",
        "        caches['Z' + str(layer)] = Z\n",
        "        A = ReLU(Z)\n",
        "        caches['A' + str(layer)] = A\n",
        "    W = params['W' + str(num_layers)]\n",
        "    b = params['b' + str(num_layers)]\n",
        "    Z = np.dot(W, A) + b\n",
        "    A = Softmax(Z)\n",
        "    caches['Z' + str(num_layers)] = Z\n",
        "    caches['A' + str(num_layers)] = A\n",
        "    return A, caches"
      ],
      "metadata": {
        "id": "UCRuhK1frGGj"
      },
      "execution_count": null,
      "outputs": []
    },
    {
      "cell_type": "code",
      "source": [
        "def forward_propagation(X, params):\n",
        "    caches = {}\n",
        "    A = X\n",
        "    num_layers = len(params) // 2\n",
        "    for layer in range(1, num_layers):\n",
        "        W = params['W' + str(layer)]\n",
        "        b = params['b' + str(layer)]\n",
        "        Z = np.dot(W, A) + b\n",
        "        A = ReLU(Z)\n",
        "        caches['Z' + str(layer)] = Z\n",
        "        caches['A' + str(layer)] = A\n",
        "    W = params['W' + str(num_layers)]\n",
        "    b = params['b' + str(num_layers)]\n",
        "    Z = np.dot(W, A) + b\n",
        "    A = Softmax(Z)\n",
        "    caches['Z' + str(num_layers)] = Z\n",
        "    caches['A' + str(num_layers)] = A\n",
        "    return A, caches"
      ],
      "metadata": {
        "id": "0fKTZ6uXrYu5"
      },
      "execution_count": null,
      "outputs": []
    },
    {
      "cell_type": "code",
      "source": [
        "def one_hot(Y, num_classes):\n",
        "    one_hot_encoded = np.eye(num_classes)[Y.reshape(-1)]\n",
        "    return one_hot_encoded"
      ],
      "metadata": {
        "id": "Yz6XHkZRrqQK"
      },
      "execution_count": null,
      "outputs": []
    },
    {
      "cell_type": "code",
      "source": [
        "def one_hot(Y, num_classes):\n",
        "    one_hot_encoded = np.eye(num_classes)[Y]\n",
        "    return one_hot_encoded"
      ],
      "metadata": {
        "id": "Q-J4AhsxrvOw"
      },
      "execution_count": null,
      "outputs": []
    },
    {
      "cell_type": "code",
      "source": [
        "def one_hot(Y, num_classes):\n",
        "    one_hot_encoded = np.eye(num_classes)[Y].T\n",
        "    return one_hot_encoded"
      ],
      "metadata": {
        "id": "1XeABzXZr6Hy"
      },
      "execution_count": null,
      "outputs": []
    },
    {
      "cell_type": "markdown",
      "source": [
        "## Part 2: Backward Propagation and Model Training:"
      ],
      "metadata": {
        "id": "ltiXtsH5sEv8"
      }
    },
    {
      "cell_type": "code",
      "source": [
        "def backward_propagation(X, Y, caches, params):\n",
        "    m = X.shape[1]\n",
        "    num_layers = len(params) // 2\n",
        "    grads = {}\n",
        "    A = caches['A' + str(num_layers)]\n",
        "    dA = -(Y / A)\n",
        "    for layer in range(num_layers, 0, -1):\n",
        "        A_prev = caches['A' + str(layer - 1)]\n",
        "        Z = caches['Z' + str(layer)]\n",
        "        dZ = dA * Softmax_derivative(Z)\n",
        "        dW = (1 / m) * np.dot(dZ, A_prev.T)\n",
        "        db = (1 / m) * np.sum(dZ, axis=1, keepdims=True)\n",
        "        dA_prev = np.dot(params['W' + str(layer)].T, dZ)\n",
        "        grads['dW' + str(layer)] = dW\n",
        "        grads['db' + str(layer)] = db\n",
        "        dA = dA_prev\n",
        "    return grads"
      ],
      "metadata": {
        "id": "de4d1YLbsGJS"
      },
      "execution_count": null,
      "outputs": []
    },
    {
      "cell_type": "code",
      "source": [
        "def backward_propagation(X, Y, caches, params):\n",
        "    m = X.shape[1]\n",
        "    num_layers = len(params) // 2\n",
        "    grads = {}\n",
        "    A3 = caches['A3']\n",
        "    dA3 = -(Y / A3)\n",
        "    dZ3 = dA3 * Softmax_derivative(caches['Z3'])\n",
        "    dW3 = (1 / m) * np.dot(dZ3, caches['A2'].T)\n",
        "    db3 = (1 / m) * np.sum(dZ3, axis=1, keepdims=True)\n",
        "    dA2 = np.dot(params['W3'].T, dZ3)\n",
        "    dZ2 = dA2 * ReLU_derivative(caches['Z2'])\n",
        "    dW2 = (1 / m) * np.dot(dZ2, caches['A1'].T)\n",
        "    db2 = (1 / m) * np.sum(dZ2, axis=1, keepdims=True)\n",
        "    dA1 = np.dot(params['W2'].T, dZ2)\n",
        "    dZ1 = dA1 * ReLU_derivative(caches['Z1'])\n",
        "    dW1 = (1 / m) * np.dot(dZ1, X.T)\n",
        "    db1 = (1 / m) * np.sum(dZ1, axis=1, keepdims=True)\n",
        "    grads['dW1'] = dW1\n",
        "    grads['db1'] = db1\n",
        "    grads['dW2'] = dW2\n",
        "    grads['db2'] = db2\n",
        "    grads['dW3'] = dW3\n",
        "    grads['db3'] = db3\n",
        "    return grads"
      ],
      "metadata": {
        "id": "TPVT5pNQslJi"
      },
      "execution_count": null,
      "outputs": []
    },
    {
      "cell_type": "code",
      "source": [
        "def ReLU_derivative(Z):\n",
        "    dZ = np.where(Z > 0, 1, 0)\n",
        "    return dZ\n",
        "\n",
        "def Softmax_derivative(Z):\n",
        "    A = np.exp(Z)\n",
        "    A_sum = np.sum(A, axis=0, keepdims=True)\n",
        "    dZ = A / A_sum * (1 - A / A_sum )\n",
        "    return dZ\n",
        "\n",
        "def backward_propagation(X, Y, caches, params):\n",
        "    m = X.shape[1]\n",
        "    num_layers = len(params) // 2\n",
        "    grads = {}\n",
        "    A3 = caches['A3']\n",
        "    dA3 = -(Y / A3)\n",
        "    dZ3 = dA3 * Softmax_derivative(caches['Z3'])\n",
        "    dW3 = (1 / m) * np.dot(dZ3, caches['A2'].T)\n",
        "    db3 = (1 / m) * np.sum(dZ3, axis=1, keepdims=True)\n",
        "    dA2 = np.dot(params['W3'].T, dZ3)\n",
        "    dZ2 = dA2 * ReLU_derivative(caches['Z2'])\n",
        "    dW2 = (1 / m) * np.dot(dZ2, caches['A1'].T)\n",
        "    db2 = (1 / m) * np.sum(dZ2, axis=1, keepdims=True)\n",
        "    dA1 = np.dot(params['W2'].T, dZ2)\n",
        "    dZ1 = dA1 * ReLU_derivative(caches['Z1'])\n",
        "    dW1 = (1 / m) * np.dot(dZ1, X.T)\n",
        "    db1 = (1 / m) * np.sum(dZ1, axis=1, keepdims=True)\n",
        "    grads['dW1'] = dW1\n",
        "    grads['db1'] = db1\n",
        "    grads['dW2'] = dW2\n",
        "    grads['db2'] = db2\n",
        "    grads['dW3'] = dW3\n",
        "    grads['db3'] = db3\n",
        "    return grads"
      ],
      "metadata": {
        "id": "0QDAwx9Xs2Lu"
      },
      "execution_count": null,
      "outputs": []
    },
    {
      "cell_type": "code",
      "source": [
        "def ReLU_derivative(Z):\n",
        "    dZ = np.where(Z > 0, 1, 0)\n",
        "    return dZ\n",
        "\n",
        "def Softmax_derivative(Z):\n",
        "    A = np.exp(Z)\n",
        "    A_sum = np.sum(A, axis=0, keepdims=True)\n",
        "    dZ = A / A_sum * (1 - A / A_sum)\n",
        "    return dZ\n",
        "\n",
        "def backward_propagation(X, Y, caches, params):\n",
        "    m = X.shape[1]\n",
        "    num_layers = len(params) // 2\n",
        "    grads = {}\n",
        "    A3 = caches['A3']\n",
        "    dA3 = -(Y / A3)\n",
        "    dZ3 = dA3 * Softmax_derivative(caches['Z3'])\n",
        "    dW3 = (1 / m) * np.dot(dZ3, caches['A2'].T)\n",
        "    db3 = (1 / m) * np.sum(dZ3, axis=1, keepdims=True)\n",
        "    dA2 = np.dot(params['W3'].T, dZ3)\n",
        "    dZ2 = dA2 * ReLU_derivative(caches['Z2'])\n",
        "    dW2 = (1 / m) * np.dot(dZ2, caches['A1'].T)\n",
        "    db2 = (1 / m) * np.sum(dZ2, axis=1, keepdims=True)\n",
        "    dA1 = np.dot(params['W2'].T, dZ2)\n",
        "    dZ1 = dA1 * ReLU_derivative(caches['Z1'])\n",
        "    dW1 = (1 / m) * np.dot(dZ1, X.T)\n",
        "    db1 = (1 / m) * np.sum(dZ1, axis=1, keepdims=True)\n",
        "    grads['dW1'] = dW1\n",
        "    grads['db1'] = db1\n",
        "    grads['dW2'] = dW2\n",
        "    grads['db2'] = db2\n",
        "    grads['dW3'] = dW3\n",
        "    grads['db3'] = db3\n",
        "    return grads"
      ],
      "metadata": {
        "id": "81iO5etEtPGB"
      },
      "execution_count": null,
      "outputs": []
    },
    {
      "cell_type": "code",
      "source": [
        "def update_params(params, grads, learning_rate):\n",
        "    num_layers = len(params) // 2\n",
        "    for layer in range(1, num_layers + 1):\n",
        "        params[\"W\" + str(layer)] -= learning_rate * grads[\"dW\" + str(layer)]\n",
        "        params[\"b\" + str(layer)] -= learning_rate * grads[\"db\" + str(layer)]\n",
        "    return params"
      ],
      "metadata": {
        "id": "-PO36YlOtikx"
      },
      "execution_count": null,
      "outputs": []
    },
    {
      "cell_type": "code",
      "source": [
        "def update_params(params, grads, learning_rate):\n",
        "    params[\"W1\"] -= learning_rate * grads[\"dW1\"]\n",
        "    params[\"b1\"] -= learning_rate * grads[\"db1\"]\n",
        "    params[\"W2\"] -= learning_rate * grads[\"dW2\"]\n",
        "    params[\"b2\"] -= learning_rate * grads[\"db2\"]\n",
        "    params[\"W3\"] -= learning_rate * grads[\"dW3\"]\n",
        "    params[\"b3\"] -= learning_rate * grads[\"db3\"]\n",
        "    return params"
      ],
      "metadata": {
        "id": "sWYluZFftjoA"
      },
      "execution_count": null,
      "outputs": []
    },
    {
      "cell_type": "code",
      "source": [
        "def update_params(params, grads, learning_rate):\n",
        "    num_layers = len(params) // 2\n",
        "    for layer in range(1, num_layers + 1):\n",
        "        params[\"W\" + str(layer)] -= learning_rate * grads[\"dW\" + str(layer)]\n",
        "        params[\"b\" + str(layer)] -= learning_rate * grads[\"db\" + str(layer)]\n",
        "    return params"
      ],
      "metadata": {
        "id": "YjVihfvwtj7M"
      },
      "execution_count": null,
      "outputs": []
    },
    {
      "cell_type": "code",
      "source": [
        "def update_params(params, grads, learning_rate):\n",
        "    num_layers = len(params) // 2\n",
        "    updated_params = {}\n",
        "    for layer in range(1, num_layers + 1):\n",
        "        updated_params[\"W\" + str(layer)] = params[\"W\" + str(layer)] - learning_rate * grads[\"dW\" + str(layer)]\n",
        "        updated_params[\"b\" + str(layer)] = params[\"b\" + str(layer)] - learning_rate * grads[\"db\" + str(layer)]\n",
        "    return updated_params"
      ],
      "metadata": {
        "id": "thab_Sy5tkCd"
      },
      "execution_count": null,
      "outputs": []
    },
    {
      "cell_type": "code",
      "source": [
        "def get_prediction(A3):\n",
        "    predictions = np.argmax(A3, axis=0)\n",
        "    return predictions"
      ],
      "metadata": {
        "id": "aXMUvwzbtkGs"
      },
      "execution_count": null,
      "outputs": []
    },
    {
      "cell_type": "code",
      "source": [
        "def get_prediction(A3):\n",
        "    predictions = np.argmax(A3, axis=0)\n",
        "    return predictions"
      ],
      "metadata": {
        "id": "RRG1L8OqtkLZ"
      },
      "execution_count": null,
      "outputs": []
    },
    {
      "cell_type": "code",
      "source": [
        "def get_accuracy(predictions, Y):\n",
        "    accuracy = np.mean(predictions == Y) * 100\n",
        "    return accuracy"
      ],
      "metadata": {
        "id": "l4nfhaLMtkOk"
      },
      "execution_count": null,
      "outputs": []
    },
    {
      "cell_type": "code",
      "source": [
        "def print_labels(predictions, Y):\n",
        "    for pred, true in zip(predictions, Y):\n",
        "        print(\"Predicted label: {}, True label: {}\".format(pred, true))"
      ],
      "metadata": {
        "id": "_LRWVYWwtkRG"
      },
      "execution_count": null,
      "outputs": []
    },
    {
      "cell_type": "code",
      "source": [
        "def gradient_descent(X, Y, num_iterations, learning_rate):\n",
        "    params = init_params()\n",
        "    for i in range(num_iterations):\n",
        "        A3, cache = forward_propagation(X, params)\n",
        "        cost = compute_cost(A3, Y)\n",
        "        grads = backward_propagation(params, cache, X, Y)\n",
        "        params = update_params(params, grads, learning_rate)\n",
        "        if i % 100 == 0:\n",
        "            print(\"Cost after iteration {}: {}\".format(i, cost))\n",
        "    return params"
      ],
      "metadata": {
        "id": "b_o7cwYytkWX"
      },
      "execution_count": null,
      "outputs": []
    },
    {
      "cell_type": "code",
      "source": [
        "def gradient_descent(X, Y, num_iterations, learning_rate):\n",
        "    params = init_params()\n",
        "    for i in range(num_iterations):\n",
        "        A3, cache = forward_propagation(X, params)\n",
        "        cost = compute_cost(A3, Y)\n",
        "        grads = backward_propagation(params, cache, X, Y)\n",
        "        params = update_params(params, grads, learning_rate)\n",
        "        if i % 10 == 0:\n",
        "            predictions = get_prediction(A3)\n",
        "            accuracy = get_accuracy(predictions, np.argmax(Y, axis=0))\n",
        "            print(\"Iteration {}: Cost = {}, Accuracy = {}%\".format(i, cost, accuracy))\n",
        "    return params\n"
      ],
      "metadata": {
        "id": "dtbv79XywaIX"
      },
      "execution_count": null,
      "outputs": []
    },
    {
      "cell_type": "code",
      "source": [
        "def gradient_descent(X, Y, num_iterations, learning_rate):\n",
        "    params = init_params()\n",
        "    for i in range(num_iterations):\n",
        "        A3, cache = forward_propagation(X, params)\n",
        "        cost = compute_cost(A3, Y)\n",
        "        grads = backward_propagation(params, cache, X, Y)\n",
        "        params = update_params(params, grads, learning_rate)\n",
        "        if i % 10 == 0:\n",
        "            predictions = get_prediction(A3)\n",
        "            accuracy = get_accuracy(predictions, np.argmax(Y, axis=0))\n",
        "            print(\"Iteration {}: Cost = {}, Accuracy = {}%\".format(i, cost, accuracy))\n",
        "            print(\"Output layer predictions:\", predictions)\n",
        "            print()\n",
        "    return params\n"
      ],
      "metadata": {
        "id": "Qjz2AJRlwqpZ"
      },
      "execution_count": null,
      "outputs": []
    },
    {
      "cell_type": "markdown",
      "source": [
        "## Part 3 : Model Evaluation:"
      ],
      "metadata": {
        "id": "ftUZFcUEw8yc"
      }
    },
    {
      "cell_type": "code",
      "source": [
        "def make_predictions(X, W1, b1, W2, b2):\n",
        "    Z1 = np.dot(W1, X) + b1\n",
        "    A1 = ReLU(Z1)\n",
        "    Z2 = np.dot(W2, A1) + b2\n",
        "    A2 = ReLU(Z2)\n",
        "    A3, _ = forward_propagation(A2, params={})\n",
        "    predictions = get_prediction(A3)\n",
        "    return predictions\n"
      ],
      "metadata": {
        "id": "7MomRv4IxASP"
      },
      "execution_count": null,
      "outputs": []
    },
    {
      "cell_type": "code",
      "source": [
        "A3, _ = forward_propagation(X, {\"W1\": W1, \"b1\": b1, \"W2\": W2, \"b2\": b2, \"W3\": W3, \"b3\": b3})\n",
        "predictions = get_prediction(A3)\n"
      ],
      "metadata": {
        "id": "dPACtQajxAth"
      },
      "execution_count": null,
      "outputs": []
    },
    {
      "cell_type": "code",
      "source": [
        "A3, _ = forward_propagation(X, {\"W1\": W1, \"b1\": b1, \"W2\": W2, \"b2\": b2, \"W3\": W3, \"b3\": b3})\n",
        "predictions = get_prediction(A3)\n",
        "return predictions"
      ],
      "metadata": {
        "id": "XhMX0mnSxAxk"
      },
      "execution_count": null,
      "outputs": []
    },
    {
      "cell_type": "code",
      "source": [
        "def test_prediction(index, X_train, Y_train, trained_params):\n",
        "    X = X_train[:, index].reshape(-1, 1)\n",
        "    true_label = np.argmax(Y_train[:, index])\n",
        "    predictions = make_predictions(X, **trained_params)\n",
        "    prediction = predictions[0]\n",
        "    return prediction, true_label"
      ],
      "metadata": {
        "id": "mBwrH8J2xA5_"
      },
      "execution_count": null,
      "outputs": []
    },
    {
      "cell_type": "code",
      "source": [
        "def test_prediction(index, X_train, Y_train, W1, b1, W2, b2):\n",
        "    X = X_train[:, index].reshape(-1, 1)\n",
        "    true_label = np.argmax(Y_train[:, index])\n",
        "    predictions = make_predictions(X, W1, b1, W2, b2)\n",
        "    prediction = predictions[0]\n",
        "    return prediction, true_label\n"
      ],
      "metadata": {
        "id": "fWLrLh2sxA-L"
      },
      "execution_count": null,
      "outputs": []
    },
    {
      "cell_type": "code",
      "source": [
        "def test_prediction(index, X_train, Y_train, W1, b1, W2, b2):\n",
        "    X = X_train[:, index].reshape(-1, 1)\n",
        "    true_label = np.argmax(Y_train[:, index])\n",
        "    Z1, A1 = forward_propagation(X, W1, b1)\n",
        "    Z2, A2 = forward_propagation(A1, W2, b2)\n",
        "    prediction = get_prediction(A2)[0]\n",
        "    return prediction, true_label\n"
      ],
      "metadata": {
        "id": "2zTnmMHLx_DY"
      },
      "execution_count": null,
      "outputs": []
    }
  ]
}