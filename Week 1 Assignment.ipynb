{
  "nbformat": 4,
  "nbformat_minor": 0,
  "metadata": {
    "colab": {
      "provenance": []
    },
    "kernelspec": {
      "name": "python3",
      "display_name": "Python 3"
    },
    "language_info": {
      "name": "python"
    }
  },
  "cells": [
    {
      "cell_type": "markdown",
      "source": [
        "## **Part I (Warm Up):**\n",
        "\n"
      ],
      "metadata": {
        "id": "b3XPUKoP5Leh"
      }
    },
    {
      "cell_type": "markdown",
      "source": [
        "Q1: Write a Python function that takes an array of integers as an argument and\n",
        "returns a new array containing only the odd numbers in the original array.\n"
      ],
      "metadata": {
        "id": "5nGS2v4W5cFO"
      }
    },
    {
      "cell_type": "code",
      "execution_count": 25,
      "metadata": {
        "colab": {
          "base_uri": "https://localhost:8080/"
        },
        "id": "H4h-d_0R5I_v",
        "outputId": "1fe56898-fe24-45fa-9124-958732abc49b"
      },
      "outputs": [
        {
          "output_type": "stream",
          "name": "stdout",
          "text": [
            "1\n",
            "3\n",
            "5\n",
            "7\n",
            "9\n",
            "11\n",
            "13\n",
            "15\n",
            "17\n",
            "19\n"
          ]
        }
      ],
      "source": [
        "import numpy as np\n",
        "def odd_number(array):\n",
        "  for number in array:\n",
        "    if number % 2 == 1:\n",
        "      print(number)\n",
        "#Let's take one example\n",
        "example_array = np.array([0,1,2,3,4,5,6,7,8,9,10,11,12,13,14,15,16,17,18,19])\n",
        "odd_number(example_array)"
      ]
    },
    {
      "cell_type": "markdown",
      "source": [
        "Q2: Create a class called Dog with attributes name and breed. Add a method called\n",
        "bark that prints a message with the dog's name and a barking sound.\n"
      ],
      "metadata": {
        "id": "bfXwhXI1_jgR"
      }
    },
    {
      "cell_type": "code",
      "source": [
        "class dog:\n",
        "    def __init__(self, name, breed):\n",
        "        self.name = name\n",
        "        self.breed = breed\n",
        "\n",
        "    def bark(self):\n",
        "        print(f\"{self.name} barks bhav bhav!\")\n",
        "#Let's take one example\n",
        "dog(\"Tommy\", \"German Shepherd\").bark()"
      ],
      "metadata": {
        "colab": {
          "base_uri": "https://localhost:8080/"
        },
        "id": "ZjXIHcYx_lKD",
        "outputId": "74a7d8a8-43b8-4b89-a7bc-a17e147db277"
      },
      "execution_count": 27,
      "outputs": [
        {
          "output_type": "stream",
          "name": "stdout",
          "text": [
            "Tommy barks bhav bhav!\n"
          ]
        }
      ]
    },
    {
      "cell_type": "markdown",
      "source": [
        "Q3. Write a Python program that creates a numpy array of 100 random integers\n",
        "between 0 and 100, and prints any 2 measures of central tendency and 2 measures\n",
        "of spread of the array.\n"
      ],
      "metadata": {
        "id": "bdVsdKbuBAu7"
      }
    },
    {
      "cell_type": "code",
      "source": [
        "import random\n",
        "x = np.random.randint(low=0, high=100, size = 100)\n",
        "x"
      ],
      "metadata": {
        "colab": {
          "base_uri": "https://localhost:8080/"
        },
        "id": "DUSk33qoBBeV",
        "outputId": "4b675bd6-ea80-46f4-d27d-f4ed31a8ae77"
      },
      "execution_count": 38,
      "outputs": [
        {
          "output_type": "execute_result",
          "data": {
            "text/plain": [
              "array([72, 78, 39, 54, 57, 50, 74, 61, 33, 98,  5, 18, 55, 17, 78, 82, 74,\n",
              "       94, 49, 66, 95, 97, 59, 26,  8, 88, 98, 98, 42, 27,  3, 27, 35, 67,\n",
              "        2, 23, 16, 52, 27, 17,  1, 26, 14, 25, 41, 41,  6, 91, 45, 94, 10,\n",
              "       83, 12, 70, 78,  9,  7, 60, 43, 62, 39, 38, 25, 65, 63, 51, 73, 55,\n",
              "       59, 73, 65, 93, 78, 25, 64,  4, 35, 33, 14, 77, 50,  1, 61, 27, 72,\n",
              "       48, 95, 81, 40, 37, 37, 43, 75, 25, 51, 72, 27, 15, 19, 45])"
            ]
          },
          "metadata": {},
          "execution_count": 38
        }
      ]
    },
    {
      "cell_type": "code",
      "source": [
        "sum = 0\n",
        "for i in range(100):\n",
        "  sum += x[i]\n",
        "mean = sum/100\n",
        "print(mean)"
      ],
      "metadata": {
        "colab": {
          "base_uri": "https://localhost:8080/"
        },
        "id": "q9BQb9u8JlXq",
        "outputId": "d1dad1b9-6688-44e9-8521-30378f1f0e27"
      },
      "execution_count": 39,
      "outputs": [
        {
          "output_type": "stream",
          "name": "stdout",
          "text": [
            "48.29\n"
          ]
        }
      ]
    },
    {
      "cell_type": "code",
      "source": [
        "x.sort()\n",
        "x"
      ],
      "metadata": {
        "colab": {
          "base_uri": "https://localhost:8080/"
        },
        "id": "YZGm1tsAMJe-",
        "outputId": "474bff63-c9b4-46b5-fbf3-98ccc18d0e7d"
      },
      "execution_count": 44,
      "outputs": [
        {
          "output_type": "execute_result",
          "data": {
            "text/plain": [
              "array([ 1,  1,  2,  3,  4,  5,  6,  7,  8,  9, 10, 12, 14, 14, 15, 16, 17,\n",
              "       17, 18, 19, 23, 25, 25, 25, 25, 26, 26, 27, 27, 27, 27, 27, 33, 33,\n",
              "       35, 35, 37, 37, 38, 39, 39, 40, 41, 41, 42, 43, 43, 45, 45, 48, 49,\n",
              "       50, 50, 51, 51, 52, 54, 55, 55, 57, 59, 59, 60, 61, 61, 62, 63, 64,\n",
              "       65, 65, 66, 67, 70, 72, 72, 72, 73, 73, 74, 74, 75, 77, 78, 78, 78,\n",
              "       78, 81, 82, 83, 88, 91, 93, 94, 94, 95, 95, 97, 98, 98, 98])"
            ]
          },
          "metadata": {},
          "execution_count": 44
        }
      ]
    },
    {
      "cell_type": "code",
      "source": [
        "median = (x[49]+x[50])/2\n",
        "median"
      ],
      "metadata": {
        "colab": {
          "base_uri": "https://localhost:8080/"
        },
        "id": "oZ2Zv7YVMw20",
        "outputId": "ce7c826f-4074-4264-aaa7-8d1a796b5a82"
      },
      "execution_count": 45,
      "outputs": [
        {
          "output_type": "execute_result",
          "data": {
            "text/plain": [
              "48.5"
            ]
          },
          "metadata": {},
          "execution_count": 45
        }
      ]
    },
    {
      "cell_type": "code",
      "source": [
        "range = x[99]-x[0]\n",
        "range"
      ],
      "metadata": {
        "colab": {
          "base_uri": "https://localhost:8080/"
        },
        "id": "8XMTzkz4Ncph",
        "outputId": "1097dd0b-e7f0-4671-9a03-48fcbd5550c2"
      },
      "execution_count": 46,
      "outputs": [
        {
          "output_type": "execute_result",
          "data": {
            "text/plain": [
              "97"
            ]
          },
          "metadata": {},
          "execution_count": 46
        }
      ]
    },
    {
      "cell_type": "code",
      "source": [
        "standard_deviation = x.std()\n",
        "standard_deviation"
      ],
      "metadata": {
        "colab": {
          "base_uri": "https://localhost:8080/"
        },
        "id": "p0G_XThTNxpf",
        "outputId": "3ad85360-29f8-4d50-8355-4518302c4e4d"
      },
      "execution_count": 49,
      "outputs": [
        {
          "output_type": "execute_result",
          "data": {
            "text/plain": [
              "27.85724142839704"
            ]
          },
          "metadata": {},
          "execution_count": 49
        }
      ]
    },
    {
      "cell_type": "markdown",
      "source": [
        "## **PART II (Mandatory) :**"
      ],
      "metadata": {
        "id": "Jlkt20eKO45K"
      }
    },
    {
      "cell_type": "markdown",
      "source": [
        "Q1. Create a class which defines an __init__ function that initializes the class\n",
        "attribute array. Define another function get_array which takes inputs for the\n",
        "length of the array and inputs all the elements, and returns its corresponding sorted\n",
        "array.\n"
      ],
      "metadata": {
        "id": "NvYO87y7O9PM"
      }
    },
    {
      "cell_type": "code",
      "source": [
        "class Array:\n",
        "    def __init__(self):\n",
        "        self.array = []\n",
        "\n",
        "    def get_array(self, length):\n",
        "      for i in range(length):\n",
        "        number = input(\"Enter number:\")\n",
        "        self.array.append(number)\n",
        "      self.array.sort()\n",
        "      return self.array"
      ],
      "metadata": {
        "id": "uWaxYpmwSKib"
      },
      "execution_count": 50,
      "outputs": []
    },
    {
      "cell_type": "markdown",
      "source": [
        "Q2.\n",
        "A. Create a 2D array of size 4*4 using list and perform the following\n",
        "operations:\n",
        "1. extract the diagonal elements from the array\n",
        "2. Find the trace of the Matrix\n",
        "3. Find the max and min element of each row in that matrix"
      ],
      "metadata": {
        "id": "sGpw36lIUAYU"
      }
    },
    {
      "cell_type": "code",
      "source": [
        "x = np.empty([4,4], dtype=int)\n",
        "x"
      ],
      "metadata": {
        "colab": {
          "base_uri": "https://localhost:8080/"
        },
        "id": "5exCs-p0UFgM",
        "outputId": "19eaa118-3664-427d-eeb6-24b15e0b3bb4"
      },
      "execution_count": 87,
      "outputs": [
        {
          "output_type": "execute_result",
          "data": {
            "text/plain": [
              "array([[       55344752,               0,            1857,\n",
              "               50699142],\n",
              "       [139810698157592, 139810698157592, 139810698157592,\n",
              "        139810698157592],\n",
              "       [              0,               1,      4345666304,\n",
              "                      5],\n",
              "       [139814070386687,              33,        51048032,\n",
              "               48207408]])"
            ]
          },
          "metadata": {},
          "execution_count": 87
        }
      ]
    },
    {
      "cell_type": "code",
      "source": [
        "x[0][0]"
      ],
      "metadata": {
        "colab": {
          "base_uri": "https://localhost:8080/"
        },
        "id": "IToKNlR6UsZS",
        "outputId": "13f7e4af-ea76-492b-d7a9-205e57c6154d"
      },
      "execution_count": 88,
      "outputs": [
        {
          "output_type": "execute_result",
          "data": {
            "text/plain": [
              "55344752"
            ]
          },
          "metadata": {},
          "execution_count": 88
        }
      ]
    },
    {
      "cell_type": "code",
      "source": [
        "x[1][1]"
      ],
      "metadata": {
        "colab": {
          "base_uri": "https://localhost:8080/"
        },
        "id": "-X1DV5BaU8Yp",
        "outputId": "daed8403-4a60-4dbb-8b23-9743f580effc"
      },
      "execution_count": 89,
      "outputs": [
        {
          "output_type": "execute_result",
          "data": {
            "text/plain": [
              "139810698157592"
            ]
          },
          "metadata": {},
          "execution_count": 89
        }
      ]
    },
    {
      "cell_type": "code",
      "source": [
        "x[2][2]"
      ],
      "metadata": {
        "colab": {
          "base_uri": "https://localhost:8080/"
        },
        "id": "oBxTHQJQU_Ad",
        "outputId": "00430e34-b2f0-4392-cf4d-89101e148a5c"
      },
      "execution_count": 90,
      "outputs": [
        {
          "output_type": "execute_result",
          "data": {
            "text/plain": [
              "4345666304"
            ]
          },
          "metadata": {},
          "execution_count": 90
        }
      ]
    },
    {
      "cell_type": "code",
      "source": [
        "x[3][3]"
      ],
      "metadata": {
        "colab": {
          "base_uri": "https://localhost:8080/"
        },
        "id": "LHKW3OisVDSe",
        "outputId": "ec244a62-ad9e-4f40-ffe9-fda2b1349a57"
      },
      "execution_count": 91,
      "outputs": [
        {
          "output_type": "execute_result",
          "data": {
            "text/plain": [
              "48207408"
            ]
          },
          "metadata": {},
          "execution_count": 91
        }
      ]
    },
    {
      "cell_type": "code",
      "source": [
        "trace = x[0][0] + x[1][1] + x[2][2] + x[3][3]\n",
        "trace"
      ],
      "metadata": {
        "colab": {
          "base_uri": "https://localhost:8080/"
        },
        "id": "omnVuEFBVMkK",
        "outputId": "435558fa-1475-4085-9194-284772bb0e38"
      },
      "execution_count": 92,
      "outputs": [
        {
          "output_type": "execute_result",
          "data": {
            "text/plain": [
              "139815147376056"
            ]
          },
          "metadata": {},
          "execution_count": 92
        }
      ]
    },
    {
      "cell_type": "code",
      "source": [
        "x.sort()\n",
        "x"
      ],
      "metadata": {
        "colab": {
          "base_uri": "https://localhost:8080/"
        },
        "id": "GpYomMDdVoVp",
        "outputId": "3cc2d4e5-f6e0-43f8-af33-257fb4efdb26"
      },
      "execution_count": 106,
      "outputs": [
        {
          "output_type": "execute_result",
          "data": {
            "text/plain": [
              "array([[              0,            1857,        50699142,\n",
              "               55344752],\n",
              "       [139810698157592, 139810698157592, 139810698157592,\n",
              "        139810698157592],\n",
              "       [              0,               1,               5,\n",
              "             4345666304],\n",
              "       [             33,        48207408,        51048032,\n",
              "        139814070386687]])"
            ]
          },
          "metadata": {},
          "execution_count": 106
        }
      ]
    },
    {
      "cell_type": "code",
      "source": [
        "max_row1 = x[0][3]\n",
        "max_row1"
      ],
      "metadata": {
        "colab": {
          "base_uri": "https://localhost:8080/"
        },
        "id": "FDljY6gzVutn",
        "outputId": "d9f99156-023b-49a2-e6f5-3a69f8ed3e98"
      },
      "execution_count": 108,
      "outputs": [
        {
          "output_type": "execute_result",
          "data": {
            "text/plain": [
              "55344752"
            ]
          },
          "metadata": {},
          "execution_count": 108
        }
      ]
    },
    {
      "cell_type": "code",
      "source": [
        "min_row1 = x[0][0]\n",
        "min_row1"
      ],
      "metadata": {
        "colab": {
          "base_uri": "https://localhost:8080/"
        },
        "id": "OFWWUKKNWF9p",
        "outputId": "7c1f7d12-6398-4f04-e49c-1ba2f2cc210b"
      },
      "execution_count": 109,
      "outputs": [
        {
          "output_type": "execute_result",
          "data": {
            "text/plain": [
              "0"
            ]
          },
          "metadata": {},
          "execution_count": 109
        }
      ]
    },
    {
      "cell_type": "code",
      "source": [
        "max_row2 = x[1][3]\n",
        "max_row2"
      ],
      "metadata": {
        "colab": {
          "base_uri": "https://localhost:8080/"
        },
        "id": "e3MRHtXZV6BX",
        "outputId": "bc902d42-839e-492e-ede0-866e0358fe8a"
      },
      "execution_count": 110,
      "outputs": [
        {
          "output_type": "execute_result",
          "data": {
            "text/plain": [
              "139810698157592"
            ]
          },
          "metadata": {},
          "execution_count": 110
        }
      ]
    },
    {
      "cell_type": "code",
      "source": [
        "min_row1 = x[1][0]\n",
        "min_row1"
      ],
      "metadata": {
        "colab": {
          "base_uri": "https://localhost:8080/"
        },
        "id": "SKZM_QHpWOWH",
        "outputId": "18c7859b-08dd-489c-a6d8-06b77fd050d4"
      },
      "execution_count": 111,
      "outputs": [
        {
          "output_type": "execute_result",
          "data": {
            "text/plain": [
              "139810698157592"
            ]
          },
          "metadata": {},
          "execution_count": 111
        }
      ]
    },
    {
      "cell_type": "code",
      "source": [
        "max_row3 = x[2][3]\n",
        "max_row3"
      ],
      "metadata": {
        "colab": {
          "base_uri": "https://localhost:8080/"
        },
        "id": "NOl6SX11V-Sx",
        "outputId": "fe8cc1ec-55fa-40c6-c3b6-cd84cb8cfc9d"
      },
      "execution_count": 112,
      "outputs": [
        {
          "output_type": "execute_result",
          "data": {
            "text/plain": [
              "4345666304"
            ]
          },
          "metadata": {},
          "execution_count": 112
        }
      ]
    },
    {
      "cell_type": "code",
      "source": [
        "min_row3 = x[2][0]\n",
        "min_row3"
      ],
      "metadata": {
        "colab": {
          "base_uri": "https://localhost:8080/"
        },
        "id": "MDiksiIKWSvH",
        "outputId": "b2d58c46-0daa-4cec-bd32-84ef6ef1f6d5"
      },
      "execution_count": 113,
      "outputs": [
        {
          "output_type": "execute_result",
          "data": {
            "text/plain": [
              "0"
            ]
          },
          "metadata": {},
          "execution_count": 113
        }
      ]
    },
    {
      "cell_type": "code",
      "source": [
        "max_row4 = x[3][3]\n",
        "max_row4"
      ],
      "metadata": {
        "colab": {
          "base_uri": "https://localhost:8080/"
        },
        "id": "9NPNmPCCWBhx",
        "outputId": "4a1e755c-7d39-4da8-eb15-efc59c0fd33c"
      },
      "execution_count": 114,
      "outputs": [
        {
          "output_type": "execute_result",
          "data": {
            "text/plain": [
              "139814070386687"
            ]
          },
          "metadata": {},
          "execution_count": 114
        }
      ]
    },
    {
      "cell_type": "code",
      "source": [
        "min_row4 = x[3][0]\n",
        "min_row4"
      ],
      "metadata": {
        "colab": {
          "base_uri": "https://localhost:8080/"
        },
        "id": "jY4y2uN6WW09",
        "outputId": "73f5ff21-6768-43e3-f1fe-7ca9366605ff"
      },
      "execution_count": 115,
      "outputs": [
        {
          "output_type": "execute_result",
          "data": {
            "text/plain": [
              "33"
            ]
          },
          "metadata": {},
          "execution_count": 115
        }
      ]
    },
    {
      "cell_type": "markdown",
      "source": [
        "B. Create another 2D numpy array with shape (4, 5) where each element of the\n",
        "array is a random float between 0 and 1, inclusive, using numpy's uniform\n",
        "distribution function. Print the resulting numpy array.\n"
      ],
      "metadata": {
        "id": "wHgKgNL_WePx"
      }
    },
    {
      "cell_type": "code",
      "source": [
        "y = np.random.uniform(low=0, high=1, size=(4, 4))\n",
        "y"
      ],
      "metadata": {
        "colab": {
          "base_uri": "https://localhost:8080/"
        },
        "id": "2DDsFC0kWgQy",
        "outputId": "58f25f1e-ac89-4d73-8e44-73ed0fb7d3a0"
      },
      "execution_count": 116,
      "outputs": [
        {
          "output_type": "execute_result",
          "data": {
            "text/plain": [
              "array([[0.66567921, 0.43804099, 0.14862496, 0.11059505],\n",
              "       [0.55025772, 0.51904993, 0.89998153, 0.30892121],\n",
              "       [0.23159149, 0.51818962, 0.54458428, 0.68040039],\n",
              "       [0.5537885 , 0.49035542, 0.28914178, 0.78418144]])"
            ]
          },
          "metadata": {},
          "execution_count": 116
        }
      ]
    },
    {
      "cell_type": "markdown",
      "source": [
        "C. Multiply the numpy arrays created in Part A and Part B element-wise, and\n",
        "print the resulting numpy array."
      ],
      "metadata": {
        "id": "1uk7cxh1YsAO"
      }
    },
    {
      "cell_type": "code",
      "source": [
        "c = np.dot(x, y)\n",
        "c"
      ],
      "metadata": {
        "colab": {
          "base_uri": "https://localhost:8080/"
        },
        "id": "tdzE2CwaYqRK",
        "outputId": "b96ca510-f53c-4c08-8c56-726ba48f245b"
      },
      "execution_count": 118,
      "outputs": [
        {
          "output_type": "execute_result",
          "data": {
            "text/plain": [
              "array([[4.23917986e+07, 5.34113319e+07, 4.36141074e+07, 7.78966169e+07],\n",
              "       [2.79805516e+14, 2.74816936e+14, 2.63170229e+14, 2.63417069e+14],\n",
              "       [2.40658002e+09, 2.13092101e+09, 1.25651370e+09, 3.40779087e+09],\n",
              "       [7.74274624e+13, 6.85586381e+13, 4.04261606e+13, 1.09639649e+14]])"
            ]
          },
          "metadata": {},
          "execution_count": 118
        }
      ]
    },
    {
      "cell_type": "markdown",
      "source": [
        "Q3. Write a program that reads in the CSV file containing data on stock prices\n",
        "(including date, open price, high price, low price, closing price, and volume) and\n",
        "creates a pandas dataframe with the data. Then, use numpy to calculate the average\n",
        "closing price for each month and print the results.\n"
      ],
      "metadata": {
        "id": "EdTekhFMaEUU"
      }
    },
    {
      "cell_type": "code",
      "source": [
        "import pandas as pd\n",
        "data = pd.read_csv('/content/drive/MyDrive/Data - STOCK_US_XNYS_CSV.csv')\n",
        "data.head(252)"
      ],
      "metadata": {
        "colab": {
          "base_uri": "https://localhost:8080/",
          "height": 423
        },
        "id": "OX0cZFGUaFPS",
        "outputId": "d26b835a-985d-4928-b804-d859cc04ac39"
      },
      "execution_count": 135,
      "outputs": [
        {
          "output_type": "execute_result",
          "data": {
            "text/plain": [
              "           Date   Open   High    Low  Close   Volume\n",
              "0    05/05/2023  26.93  27.71  26.59  27.59  146,854\n",
              "1    05/04/2023  29.17  29.17  26.12  26.74  187,882\n",
              "2    05/03/2023  29.00  29.36  27.83  28.09  138,729\n",
              "3    05/02/2023  29.39  29.39  28.47  28.96  132,896\n",
              "4    05/01/2023  28.80  29.74  28.80  29.69   58,964\n",
              "..          ...    ...    ...    ...    ...      ...\n",
              "247  05/11/2022  39.59  40.70  38.90  38.99  212,540\n",
              "248  05/10/2022  40.23  40.97  39.15  39.29  263,363\n",
              "249  05/09/2022  40.67  40.80  39.50  40.07  171,351\n",
              "250  05/06/2022  41.33  41.53  40.22  41.30  112,366\n",
              "251  05/05/2022  42.81  42.95  40.88  41.49   85,554\n",
              "\n",
              "[252 rows x 6 columns]"
            ],
            "text/html": [
              "\n",
              "  <div id=\"df-c6e7e65c-0e0b-4a80-a464-f43f1100822e\">\n",
              "    <div class=\"colab-df-container\">\n",
              "      <div>\n",
              "<style scoped>\n",
              "    .dataframe tbody tr th:only-of-type {\n",
              "        vertical-align: middle;\n",
              "    }\n",
              "\n",
              "    .dataframe tbody tr th {\n",
              "        vertical-align: top;\n",
              "    }\n",
              "\n",
              "    .dataframe thead th {\n",
              "        text-align: right;\n",
              "    }\n",
              "</style>\n",
              "<table border=\"1\" class=\"dataframe\">\n",
              "  <thead>\n",
              "    <tr style=\"text-align: right;\">\n",
              "      <th></th>\n",
              "      <th>Date</th>\n",
              "      <th>Open</th>\n",
              "      <th>High</th>\n",
              "      <th>Low</th>\n",
              "      <th>Close</th>\n",
              "      <th>Volume</th>\n",
              "    </tr>\n",
              "  </thead>\n",
              "  <tbody>\n",
              "    <tr>\n",
              "      <th>0</th>\n",
              "      <td>05/05/2023</td>\n",
              "      <td>26.93</td>\n",
              "      <td>27.71</td>\n",
              "      <td>26.59</td>\n",
              "      <td>27.59</td>\n",
              "      <td>146,854</td>\n",
              "    </tr>\n",
              "    <tr>\n",
              "      <th>1</th>\n",
              "      <td>05/04/2023</td>\n",
              "      <td>29.17</td>\n",
              "      <td>29.17</td>\n",
              "      <td>26.12</td>\n",
              "      <td>26.74</td>\n",
              "      <td>187,882</td>\n",
              "    </tr>\n",
              "    <tr>\n",
              "      <th>2</th>\n",
              "      <td>05/03/2023</td>\n",
              "      <td>29.00</td>\n",
              "      <td>29.36</td>\n",
              "      <td>27.83</td>\n",
              "      <td>28.09</td>\n",
              "      <td>138,729</td>\n",
              "    </tr>\n",
              "    <tr>\n",
              "      <th>3</th>\n",
              "      <td>05/02/2023</td>\n",
              "      <td>29.39</td>\n",
              "      <td>29.39</td>\n",
              "      <td>28.47</td>\n",
              "      <td>28.96</td>\n",
              "      <td>132,896</td>\n",
              "    </tr>\n",
              "    <tr>\n",
              "      <th>4</th>\n",
              "      <td>05/01/2023</td>\n",
              "      <td>28.80</td>\n",
              "      <td>29.74</td>\n",
              "      <td>28.80</td>\n",
              "      <td>29.69</td>\n",
              "      <td>58,964</td>\n",
              "    </tr>\n",
              "    <tr>\n",
              "      <th>...</th>\n",
              "      <td>...</td>\n",
              "      <td>...</td>\n",
              "      <td>...</td>\n",
              "      <td>...</td>\n",
              "      <td>...</td>\n",
              "      <td>...</td>\n",
              "    </tr>\n",
              "    <tr>\n",
              "      <th>247</th>\n",
              "      <td>05/11/2022</td>\n",
              "      <td>39.59</td>\n",
              "      <td>40.70</td>\n",
              "      <td>38.90</td>\n",
              "      <td>38.99</td>\n",
              "      <td>212,540</td>\n",
              "    </tr>\n",
              "    <tr>\n",
              "      <th>248</th>\n",
              "      <td>05/10/2022</td>\n",
              "      <td>40.23</td>\n",
              "      <td>40.97</td>\n",
              "      <td>39.15</td>\n",
              "      <td>39.29</td>\n",
              "      <td>263,363</td>\n",
              "    </tr>\n",
              "    <tr>\n",
              "      <th>249</th>\n",
              "      <td>05/09/2022</td>\n",
              "      <td>40.67</td>\n",
              "      <td>40.80</td>\n",
              "      <td>39.50</td>\n",
              "      <td>40.07</td>\n",
              "      <td>171,351</td>\n",
              "    </tr>\n",
              "    <tr>\n",
              "      <th>250</th>\n",
              "      <td>05/06/2022</td>\n",
              "      <td>41.33</td>\n",
              "      <td>41.53</td>\n",
              "      <td>40.22</td>\n",
              "      <td>41.30</td>\n",
              "      <td>112,366</td>\n",
              "    </tr>\n",
              "    <tr>\n",
              "      <th>251</th>\n",
              "      <td>05/05/2022</td>\n",
              "      <td>42.81</td>\n",
              "      <td>42.95</td>\n",
              "      <td>40.88</td>\n",
              "      <td>41.49</td>\n",
              "      <td>85,554</td>\n",
              "    </tr>\n",
              "  </tbody>\n",
              "</table>\n",
              "<p>252 rows × 6 columns</p>\n",
              "</div>\n",
              "      <button class=\"colab-df-convert\" onclick=\"convertToInteractive('df-c6e7e65c-0e0b-4a80-a464-f43f1100822e')\"\n",
              "              title=\"Convert this dataframe to an interactive table.\"\n",
              "              style=\"display:none;\">\n",
              "        \n",
              "  <svg xmlns=\"http://www.w3.org/2000/svg\" height=\"24px\"viewBox=\"0 0 24 24\"\n",
              "       width=\"24px\">\n",
              "    <path d=\"M0 0h24v24H0V0z\" fill=\"none\"/>\n",
              "    <path d=\"M18.56 5.44l.94 2.06.94-2.06 2.06-.94-2.06-.94-.94-2.06-.94 2.06-2.06.94zm-11 1L8.5 8.5l.94-2.06 2.06-.94-2.06-.94L8.5 2.5l-.94 2.06-2.06.94zm10 10l.94 2.06.94-2.06 2.06-.94-2.06-.94-.94-2.06-.94 2.06-2.06.94z\"/><path d=\"M17.41 7.96l-1.37-1.37c-.4-.4-.92-.59-1.43-.59-.52 0-1.04.2-1.43.59L10.3 9.45l-7.72 7.72c-.78.78-.78 2.05 0 2.83L4 21.41c.39.39.9.59 1.41.59.51 0 1.02-.2 1.41-.59l7.78-7.78 2.81-2.81c.8-.78.8-2.07 0-2.86zM5.41 20L4 18.59l7.72-7.72 1.47 1.35L5.41 20z\"/>\n",
              "  </svg>\n",
              "      </button>\n",
              "      \n",
              "  <style>\n",
              "    .colab-df-container {\n",
              "      display:flex;\n",
              "      flex-wrap:wrap;\n",
              "      gap: 12px;\n",
              "    }\n",
              "\n",
              "    .colab-df-convert {\n",
              "      background-color: #E8F0FE;\n",
              "      border: none;\n",
              "      border-radius: 50%;\n",
              "      cursor: pointer;\n",
              "      display: none;\n",
              "      fill: #1967D2;\n",
              "      height: 32px;\n",
              "      padding: 0 0 0 0;\n",
              "      width: 32px;\n",
              "    }\n",
              "\n",
              "    .colab-df-convert:hover {\n",
              "      background-color: #E2EBFA;\n",
              "      box-shadow: 0px 1px 2px rgba(60, 64, 67, 0.3), 0px 1px 3px 1px rgba(60, 64, 67, 0.15);\n",
              "      fill: #174EA6;\n",
              "    }\n",
              "\n",
              "    [theme=dark] .colab-df-convert {\n",
              "      background-color: #3B4455;\n",
              "      fill: #D2E3FC;\n",
              "    }\n",
              "\n",
              "    [theme=dark] .colab-df-convert:hover {\n",
              "      background-color: #434B5C;\n",
              "      box-shadow: 0px 1px 3px 1px rgba(0, 0, 0, 0.15);\n",
              "      filter: drop-shadow(0px 1px 2px rgba(0, 0, 0, 0.3));\n",
              "      fill: #FFFFFF;\n",
              "    }\n",
              "  </style>\n",
              "\n",
              "      <script>\n",
              "        const buttonEl =\n",
              "          document.querySelector('#df-c6e7e65c-0e0b-4a80-a464-f43f1100822e button.colab-df-convert');\n",
              "        buttonEl.style.display =\n",
              "          google.colab.kernel.accessAllowed ? 'block' : 'none';\n",
              "\n",
              "        async function convertToInteractive(key) {\n",
              "          const element = document.querySelector('#df-c6e7e65c-0e0b-4a80-a464-f43f1100822e');\n",
              "          const dataTable =\n",
              "            await google.colab.kernel.invokeFunction('convertToInteractive',\n",
              "                                                     [key], {});\n",
              "          if (!dataTable) return;\n",
              "\n",
              "          const docLinkHtml = 'Like what you see? Visit the ' +\n",
              "            '<a target=\"_blank\" href=https://colab.research.google.com/notebooks/data_table.ipynb>data table notebook</a>'\n",
              "            + ' to learn more about interactive tables.';\n",
              "          element.innerHTML = '';\n",
              "          dataTable['output_type'] = 'display_data';\n",
              "          await google.colab.output.renderOutput(dataTable, element);\n",
              "          const docLink = document.createElement('div');\n",
              "          docLink.innerHTML = docLinkHtml;\n",
              "          element.appendChild(docLink);\n",
              "        }\n",
              "      </script>\n",
              "    </div>\n",
              "  </div>\n",
              "  "
            ]
          },
          "metadata": {},
          "execution_count": 135
        }
      ]
    },
    {
      "cell_type": "code",
      "source": [
        "import numpy\n",
        "df = pd.DataFrame(data)\n",
        "a = df.to_numpy()\n",
        "a"
      ],
      "metadata": {
        "colab": {
          "base_uri": "https://localhost:8080/"
        },
        "id": "3t9qhjfibj3x",
        "outputId": "37489f9c-d55b-4c25-a359-ba785cd219a7"
      },
      "execution_count": 150,
      "outputs": [
        {
          "output_type": "execute_result",
          "data": {
            "text/plain": [
              "array([['05/05/2023', 26.93, 27.71, 26.59, 27.59, '146,854'],\n",
              "       ['05/04/2023', 29.17, 29.17, 26.12, 26.74, '187,882'],\n",
              "       ['05/03/2023', 29.0, 29.36, 27.83, 28.09, '138,729'],\n",
              "       ...,\n",
              "       ['05/09/2022', 40.67, 40.8, 39.5, 40.07, '171,351'],\n",
              "       ['05/06/2022', 41.33, 41.53, 40.22, 41.3, '112,366'],\n",
              "       ['05/05/2022', 42.81, 42.95, 40.88, 41.49, '85,554']], dtype=object)"
            ]
          },
          "metadata": {},
          "execution_count": 150
        }
      ]
    },
    {
      "cell_type": "code",
      "source": [
        "#Average of May 2023\n",
        "sum = a[0][4]+a[1][4]+a[2][4]+a[3][4]+a[4][4]\n",
        "mean = sum/5\n",
        "mean"
      ],
      "metadata": {
        "colab": {
          "base_uri": "https://localhost:8080/"
        },
        "id": "_2A-uAh-grBR",
        "outputId": "4b38af1a-351c-4bd5-e0ea-9bacaa15ace8"
      },
      "execution_count": 154,
      "outputs": [
        {
          "output_type": "execute_result",
          "data": {
            "text/plain": [
              "28.214"
            ]
          },
          "metadata": {},
          "execution_count": 154
        }
      ]
    },
    {
      "cell_type": "markdown",
      "source": [
        "Similarily for other month we can calculate its closing average. I wanted to use for loop which will make it easy to write but I dont know why its giving me error for some reason. I used for loop in numpy for above problem 3 in part 1 and its working there and its not working here. So please consider."
      ],
      "metadata": {
        "id": "uICnPeebk81i"
      }
    }
  ]
}